{
 "cells": [
  {
   "cell_type": "markdown",
   "metadata": {},
   "source": [
    "Link - https://www.youtube.com/watch?v=oXlwWbU8l2o&t=7328s\n",
    "<br>\n",
    "env - imageprocessing"
   ]
  },
  {
   "cell_type": "markdown",
   "metadata": {},
   "source": [
    "#### Reading images and videos"
   ]
  },
  {
   "cell_type": "code",
   "execution_count": 2,
   "metadata": {},
   "outputs": [],
   "source": [
    "import cv2 as cv"
   ]
  },
  {
   "cell_type": "code",
   "execution_count": 2,
   "metadata": {},
   "outputs": [
    {
     "data": {
      "text/plain": [
       "-1"
      ]
     },
     "execution_count": 2,
     "metadata": {},
     "output_type": "execute_result"
    }
   ],
   "source": [
    "#Reading images\n",
    "\n",
    "img = cv.imread('Resources/Photos/cat_large.jpg')\n",
    "\n",
    "#Takes in the window name and pixel values to display\n",
    "cv.imshow('Cat',img)\n",
    "\n",
    "cv.waitKey(0)"
   ]
  },
  {
   "cell_type": "code",
   "execution_count": 3,
   "metadata": {},
   "outputs": [],
   "source": [
    "#Reading Videos\n",
    "\n",
    "#Takes in integer args for device webcam or path of video\n",
    "capture = cv.VideoCapture('Resources/Videos/dog.mp4')\n",
    "\n",
    "while True:\n",
    "    isTrue, frame = capture.read()\n",
    "    cv.imshow('Video',frame)\n",
    "\n",
    "    if cv.waitKey(20) & 0xFF==ord('d'):\n",
    "        break\n",
    "\n",
    "capture.release()\n",
    "cv.destroyAllWindows()\n"
   ]
  },
  {
   "cell_type": "markdown",
   "metadata": {},
   "source": [
    "#### Resize and rescale"
   ]
  },
  {
   "cell_type": "code",
   "execution_count": 7,
   "metadata": {},
   "outputs": [],
   "source": [
    "#Will work for image, videos and live videos\n",
    "def rescale_frame(frame, scale=0.75):\n",
    "    width = int(frame.shape[1] * scale)\n",
    "    height = int(frame.shape[0] * scale)\n",
    "\n",
    "    dimensions = (width,height)\n",
    "\n",
    "    return cv.resize(frame, dimensions, interpolation=cv.INTER_AREA)\n",
    "\n"
   ]
  },
  {
   "cell_type": "code",
   "execution_count": 8,
   "metadata": {},
   "outputs": [],
   "source": [
    "capture = cv.VideoCapture('Resources/Videos/dog.mp4')\n",
    "\n",
    "while True:\n",
    "    isTrue, frame = capture.read()\n",
    "    frame_resized = rescale_frame(frame)\n",
    "\n",
    "    cv.imshow('Video',frame)\n",
    "    cv.imshow('Video resized',frame_resized)\n",
    "    \n",
    "    if cv.waitKey(20) & 0xFF==ord('d'):\n",
    "        break\n",
    "\n",
    "capture.release()\n",
    "cv.destroyAllWindows()"
   ]
  },
  {
   "cell_type": "code",
   "execution_count": 11,
   "metadata": {},
   "outputs": [
    {
     "data": {
      "text/plain": [
       "-1"
      ]
     },
     "execution_count": 11,
     "metadata": {},
     "output_type": "execute_result"
    }
   ],
   "source": [
    "img = cv.imread('Resources/Photos/cat_large.jpg')\n",
    "img_resized = rescale_frame(img)\n",
    "\n",
    "cv.imshow('Cat',img)\n",
    "cv.imshow('Cat resized',img_resized)\n",
    "\n",
    "cv.waitKey(0)"
   ]
  },
  {
   "cell_type": "code",
   "execution_count": 12,
   "metadata": {},
   "outputs": [],
   "source": [
    "#Changing resolution of live video\n",
    "\n",
    "def change_res(width, height):\n",
    "    capture.set(3,width)\n",
    "    capture.set(4,height)"
   ]
  },
  {
   "cell_type": "markdown",
   "metadata": {},
   "source": [
    "### Draw and write on images"
   ]
  },
  {
   "cell_type": "code",
   "execution_count": 2,
   "metadata": {},
   "outputs": [],
   "source": [
    "import cv2 as cv\n",
    "import numpy as np"
   ]
  },
  {
   "cell_type": "code",
   "execution_count": 16,
   "metadata": {},
   "outputs": [
    {
     "data": {
      "text/plain": [
       "-1"
      ]
     },
     "execution_count": 16,
     "metadata": {},
     "output_type": "execute_result"
    }
   ],
   "source": [
    "#For a blank image\n",
    "\n",
    "blank = np.zeros((500,500,3), dtype='uint8')\n",
    "#cv.imshow('Blank',blank)\n",
    "\n",
    "#1. Painting a certain color RGB\n",
    "#blank[:] = 0,255,0\n",
    "#blank[200:300,300:400] = 0,255,0\n",
    "#cv.imshow('Green',blank)\n",
    "\n",
    "\n",
    "#2. Drawing a rectangle\n",
    "#Pass the frame, origin, end point, color, thickness\n",
    "#cv.rectangle(blank, (0,0),(250,250),(255,255,255),thickness=-1)\n",
    "#cv.imshow('Rectangle',blank)\n",
    "\n",
    "\n",
    "#3. Drawing a circle\n",
    "#Pass the frame, origin, radius, color, thickness\n",
    "#cv.circle(blank, (blank.shape[1]//2,blank.shape[0]//2),40,(0,0,255),thickness=-3)\n",
    "#cv.imshow('Circle',blank)\n",
    "\n",
    "\n",
    "#4. Drawing a line\n",
    "#Pass the frame, origin, endpoint, color, thickness\n",
    "#cv.line(blank, (0,0),(blank.shape[1]//2,blank.shape[0]//2),(255,255,0),thickness=3)\n",
    "#cv.imshow('Line',blank)\n",
    "\n",
    "\n",
    "#5. Putting text on image\n",
    "#Pass the frame, text, origin, font, scale, color, thickness\n",
    "cv.putText(blank, \"Hello World!\",(100,100),cv.FONT_HERSHEY_TRIPLEX,1.0,(0,255,0),2)\n",
    "cv.imshow('Text',blank)\n",
    "\n",
    "cv.waitKey(0)"
   ]
  },
  {
   "cell_type": "markdown",
   "metadata": {},
   "source": [
    "### Basic functions"
   ]
  },
  {
   "cell_type": "code",
   "execution_count": 2,
   "metadata": {},
   "outputs": [],
   "source": [
    "import cv2 as cv"
   ]
  },
  {
   "cell_type": "code",
   "execution_count": 3,
   "metadata": {},
   "outputs": [
    {
     "data": {
      "text/plain": [
       "-1"
      ]
     },
     "execution_count": 3,
     "metadata": {},
     "output_type": "execute_result"
    }
   ],
   "source": [
    "img = cv.imread(\"Resources/Photos/cat.jpg\")\n",
    "cv.imshow('Original', img)\n",
    "\n",
    "#1. Convert to gray scale\n",
    "#gray = cv.cvtColor(img, cv.COLOR_BGR2GRAY)\n",
    "#cv.imshow('Grayscale', gray)\n",
    "\n",
    "#2. Blurring an image using GaussianBlur - takes the frame and kernel size\n",
    "#Increasing the kernel size with increase the blur effect\n",
    "blur = cv.GaussianBlur(img, (7,7), cv.BORDER_DEFAULT)\n",
    "#cv.imshow('Blur', blur)\n",
    "\n",
    "#3. Edge detection using canny edge - takes the frame and threshold values\n",
    "canny = cv.Canny(blur, 125,175)\n",
    "#cv.imshow('Canny', canny)\n",
    "\n",
    "#4. Dilating the image\n",
    "dilated = cv.dilate(canny, (3,3), iterations=3)\n",
    "#cv.imshow('Dilated', dilated)\n",
    "\n",
    "\n",
    "#5. Eroding the image (Reverse of dilated)\n",
    "erode = cv.erode(dilated, (3,3), iterations=3)\n",
    "#cv.imshow('Erode', erode)\n",
    "\n",
    "#6. Resize and crop\n",
    "resized = cv.resize(img, (500,500))\n",
    "#cv.imshow('Resized',resized)\n",
    "\n",
    "\n",
    "cropped = img[50:200,200:400]#Using array slicing\n",
    "cv.imshow('Cropped',cropped)\n",
    "cv.waitKey(0)"
   ]
  },
  {
   "cell_type": "markdown",
   "metadata": {},
   "source": [
    "### Image tansformations"
   ]
  },
  {
   "cell_type": "code",
   "execution_count": 1,
   "metadata": {},
   "outputs": [],
   "source": [
    "import cv2 as cv\n",
    "import numpy as np"
   ]
  },
  {
   "cell_type": "code",
   "execution_count": 2,
   "metadata": {},
   "outputs": [],
   "source": [
    "#1. Translation - shifting along x and y axes\n",
    "# -ve x --> Left\n",
    "# -ve y --> Up\n",
    "# +ve x --> Right\n",
    "# +ve y --> Down\n",
    "\n",
    "def translate(img, x, y):\n",
    "    translate_matrix = np.float32([[1,0,x],[0,1,y]])\n",
    "    dimensions = (img.shape[1], img.shape[0])\n",
    "    \n",
    "    return cv.warpAffine(img, translate_matrix, dimensions)"
   ]
  },
  {
   "cell_type": "code",
   "execution_count": 3,
   "metadata": {},
   "outputs": [
    {
     "data": {
      "text/plain": [
       "-1"
      ]
     },
     "execution_count": 3,
     "metadata": {},
     "output_type": "execute_result"
    }
   ],
   "source": [
    "img = cv.imread(\"Resources/Photos/cat.jpg\")\n",
    "cv.imshow('Original', img)\n",
    "\n",
    "translated = translate(img, 100,100)\n",
    "cv.imshow('Translated', translated)\n",
    "cv.waitKey(0)"
   ]
  },
  {
   "cell_type": "code",
   "execution_count": 4,
   "metadata": {},
   "outputs": [],
   "source": [
    "# 2. Rotation\n",
    "\n",
    "def rotate(img, angle, rotPoint=None):\n",
    "    (height, width) = img.shape[:2]\n",
    "\n",
    "    if rotPoint == None:\n",
    "        rotPoint = (width//2,height//2)\n",
    "\n",
    "    rotMat = cv.getRotationMatrix2D(rotPoint, angle, 1.0)\n",
    "    dimensions = (width,height)\n",
    "\n",
    "    return cv.warpAffine(img, rotMat, dimensions)"
   ]
  },
  {
   "cell_type": "code",
   "execution_count": 5,
   "metadata": {},
   "outputs": [
    {
     "data": {
      "text/plain": [
       "-1"
      ]
     },
     "execution_count": 5,
     "metadata": {},
     "output_type": "execute_result"
    }
   ],
   "source": [
    "img = cv.imread(\"Resources/Photos/cat.jpg\")\n",
    "cv.imshow('Original', img)\n",
    "\n",
    "rotated = rotate(img, 45)\n",
    "cv.imshow('Rotated', rotated)\n",
    "cv.waitKey(0)"
   ]
  },
  {
   "cell_type": "code",
   "execution_count": 6,
   "metadata": {},
   "outputs": [
    {
     "data": {
      "text/plain": [
       "-1"
      ]
     },
     "execution_count": 6,
     "metadata": {},
     "output_type": "execute_result"
    }
   ],
   "source": [
    "# 3. Flipping\n",
    "# 0 --> Flip vertically\n",
    "# 1 --> Flip horizontally\n",
    "# -1 --> Flip vertically and horizontally\n",
    "\n",
    "flip_v = cv.flip(img, 0)\n",
    "flip_h = cv.flip(img, 1)\n",
    "flip_vh = cv.flip(img, -1)\n",
    "\n",
    "cv.imshow(\"Original\", img)\n",
    "cv.imshow(\"Vertical flip\", flip_v)\n",
    "cv.imshow(\"Horizontal flip\", flip_h)\n",
    "cv.imshow(\"Both flip\", flip_vh)\n",
    "\n",
    "cv.waitKey(0)"
   ]
  },
  {
   "cell_type": "markdown",
   "metadata": {},
   "source": [
    "### Contours"
   ]
  },
  {
   "cell_type": "code",
   "execution_count": 13,
   "metadata": {},
   "outputs": [],
   "source": [
    "import cv2 as cv\n",
    "import numpy as np"
   ]
  },
  {
   "cell_type": "code",
   "execution_count": 16,
   "metadata": {},
   "outputs": [
    {
     "name": "stdout",
     "output_type": "stream",
     "text": [
      "Contours found: 839\n"
     ]
    },
    {
     "data": {
      "text/plain": [
       "-1"
      ]
     },
     "execution_count": 16,
     "metadata": {},
     "output_type": "execute_result"
    }
   ],
   "source": [
    "img = cv.imread(\"Resources/Photos/cats.jpg\")\n",
    "cv.imshow('Original', img)\n",
    "\n",
    "gray = cv.cvtColor(img, cv.COLOR_BGR2GRAY)\n",
    "cv.imshow('Gray', gray)\n",
    "\n",
    "blank = np.zeros(img.shape, dtype='uint8')\n",
    "#cv.imshow('Blank', blank)\n",
    "\n",
    "# blur = cv.GaussianBlur(gray, (5,5), cv.BORDER_DEFAULT)\n",
    "# cv.imshow('Blur', blur)\n",
    "\n",
    "# canny = cv.Canny(blur, 125,175)\n",
    "# cv.imshow('Canny', canny)\n",
    "\n",
    "#Instead of using blur and edge detector we use the threshold func\n",
    "#If pixel intensity if less than 125 -> It is set to black\n",
    "#If pixel intensity if more than 125 -> It is set to white\n",
    "ret, thresh = cv.threshold(gray, 125, 255, cv.THRESH_BINARY)\n",
    "cv.imshow('Threshold', thresh)\n",
    "\n",
    "contours, hierarchies = cv.findContours(thresh, cv.RETR_LIST, cv.CHAIN_APPROX_NONE)\n",
    "print(f'Contours found: {len(contours)}')\n",
    "\n",
    "#Drawing contours on blank img\n",
    "cv.drawContours(blank, contours, -1, (0,0,255), 1)\n",
    "cv.imshow('Contours drawn', blank)\n",
    "\n",
    "cv.waitKey(0)"
   ]
  },
  {
   "cell_type": "markdown",
   "metadata": {},
   "source": [
    "### Colorspaces"
   ]
  },
  {
   "cell_type": "code",
   "execution_count": 2,
   "metadata": {},
   "outputs": [],
   "source": [
    "import cv2 as cv"
   ]
  },
  {
   "cell_type": "code",
   "execution_count": 5,
   "metadata": {},
   "outputs": [
    {
     "data": {
      "text/plain": [
       "-1"
      ]
     },
     "execution_count": 5,
     "metadata": {},
     "output_type": "execute_result"
    }
   ],
   "source": [
    "img = cv.imread(\"Resources/Photos/park.jpg\")\n",
    "cv.imshow('Original', img)\n",
    "\n",
    "# 1. Gray\n",
    "#gray = cv.cvtColor(img, cv.COLOR_BGR2GRAY)\n",
    "#cv.imshow('Gray', gray)\n",
    "\n",
    "\n",
    "# 2. HSV\n",
    "#hsv = cv.cvtColor(img, cv.COLOR_BGR2HSV)\n",
    "#cv.imshow('HSV', hsv)\n",
    "\n",
    "# 3. LAB\n",
    "#lab = cv.cvtColor(img, cv.COLOR_BGR2LAB)\n",
    "#cv.imshow('LAB', lab)\n",
    "\n",
    "# 4. RGB\n",
    "rgb = cv.cvtColor(img, cv.COLOR_BGR2RGB)\n",
    "cv.imshow('RGB', rgb)\n",
    "\n",
    "cv.waitKey(0)"
   ]
  },
  {
   "cell_type": "markdown",
   "metadata": {},
   "source": [
    "### Color channels"
   ]
  },
  {
   "cell_type": "code",
   "execution_count": 2,
   "metadata": {},
   "outputs": [],
   "source": [
    "import cv2 as cv\n",
    "import numpy as np"
   ]
  },
  {
   "cell_type": "code",
   "execution_count": 3,
   "metadata": {},
   "outputs": [
    {
     "data": {
      "text/plain": [
       "-1"
      ]
     },
     "execution_count": 3,
     "metadata": {},
     "output_type": "execute_result"
    }
   ],
   "source": [
    "img = cv.imread(\"Resources/Photos/park.jpg\")\n",
    "cv.imshow('Original', img)\n",
    "\n",
    "b,g,r = cv.split(img)\n",
    "\n",
    "blank = np.zeros(img.shape[:2], dtype='uint8')\n",
    "blue = cv.merge([b,blank,blank])\n",
    "red = cv.merge([blank,blank,r])\n",
    "green = cv.merge([blank,g,blank])\n",
    "\n",
    "\n",
    "# cv.imshow('Blue', b)\n",
    "# cv.imshow('Green', g)\n",
    "# cv.imshow('Red', r)\n",
    "\n",
    "cv.imshow('Blue', blue)\n",
    "cv.imshow('Green', green)\n",
    "cv.imshow('Red', red)\n",
    "\n",
    "#Individual color channels\n",
    "\n",
    "cv.waitKey(0)"
   ]
  },
  {
   "cell_type": "code",
   "execution_count": 4,
   "metadata": {},
   "outputs": [
    {
     "data": {
      "text/plain": [
       "-1"
      ]
     },
     "execution_count": 4,
     "metadata": {},
     "output_type": "execute_result"
    }
   ],
   "source": [
    "merged = cv.merge([b,g,r])\n",
    "cv.imshow('Merged',merged)\n",
    "cv.waitKey(0)"
   ]
  },
  {
   "cell_type": "markdown",
   "metadata": {},
   "source": [
    "### Blurring"
   ]
  },
  {
   "cell_type": "code",
   "execution_count": 2,
   "metadata": {},
   "outputs": [],
   "source": [
    "import cv2 as cv"
   ]
  },
  {
   "cell_type": "code",
   "execution_count": 6,
   "metadata": {},
   "outputs": [
    {
     "data": {
      "text/plain": [
       "-1"
      ]
     },
     "execution_count": 6,
     "metadata": {},
     "output_type": "execute_result"
    }
   ],
   "source": [
    "img = cv.imread(\"Resources/Photos/cats.jpg\")\n",
    "cv.imshow('Original', img)\n",
    "\n",
    "# 1. Averaging - the central pixel is the average of the surrounding pixels\n",
    "# More kernel size -> More blue effect\n",
    "average = cv.blur(img,(3,3))\n",
    "cv.imshow('Average Blur', average)\n",
    "\n",
    "# 2. Gaussian - Surrounding pixels are given a weight. Centre pixel is the avg of pixel value*weight of surrounding pixels\n",
    "gaussian = cv.GaussianBlur(img,(3,3), 0)\n",
    "cv.imshow('Gaussian Blur', gaussian)\n",
    "\n",
    "# 3. Median - the central pixel is the median of the surrounding pixels\n",
    "median = cv.medianBlur(img, 3)\n",
    "cv.imshow('Median Blur', median)\n",
    "\n",
    "# 4. Bilateral - Applies blurring while keeping the edges\n",
    "bilat = cv.bilateralFilter(img, 5, 15, 15)\n",
    "cv.imshow('Bilateral Blur', bilat)\n",
    "\n",
    "cv.waitKey(0)"
   ]
  },
  {
   "cell_type": "markdown",
   "metadata": {},
   "source": [
    "### Bitwise\n",
    "\n",
    "1. AND\n",
    "<br>\n",
    "2. OR\n",
    "<br>\n",
    "3. XOR\n",
    "<br>\n",
    "4. NOT"
   ]
  },
  {
   "cell_type": "code",
   "execution_count": 7,
   "metadata": {},
   "outputs": [],
   "source": [
    "import cv2 as cv\n",
    "import numpy as np"
   ]
  },
  {
   "cell_type": "code",
   "execution_count": 12,
   "metadata": {},
   "outputs": [
    {
     "data": {
      "text/plain": [
       "-1"
      ]
     },
     "execution_count": 12,
     "metadata": {},
     "output_type": "execute_result"
    }
   ],
   "source": [
    "blank = np.zeros((400,400), dtype='uint8')\n",
    "\n",
    "rectangle = cv.rectangle(blank.copy(), (30,30), (370,370), 255, -1)\n",
    "circle = cv.circle(blank.copy(), (200,200), 200, 255, -1)\n",
    "\n",
    "cv.imshow('circle', circle)\n",
    "cv.imshow('rectangle', rectangle)    \n",
    "\n",
    "# 1. AND -> intersecting regions\n",
    "bitwise_and = cv.bitwise_and(rectangle,circle)\n",
    "cv.imshow('bitwise AND', bitwise_and)\n",
    "\n",
    "# 2. OR -> non intersecting and intersecting regions\n",
    "bitwise_or = cv.bitwise_or(rectangle,circle)\n",
    "cv.imshow('bitwise OR', bitwise_or)\n",
    "\n",
    "# 3. XOR -> non intersecting\n",
    "bitwise_xor = cv.bitwise_xor(rectangle,circle)\n",
    "cv.imshow('bitwise XOR', bitwise_xor)\n",
    "\n",
    "# 4. NOT\n",
    "bitwise_not = cv.bitwise_not(rectangle,circle)\n",
    "cv.imshow('bitwise NOT', bitwise_not)\n",
    "cv.waitKey(0)"
   ]
  },
  {
   "cell_type": "code",
   "execution_count": null,
   "metadata": {},
   "outputs": [],
   "source": []
  }
 ],
 "metadata": {
  "kernelspec": {
   "display_name": "imageprocessing",
   "language": "python",
   "name": "python3"
  },
  "language_info": {
   "codemirror_mode": {
    "name": "ipython",
    "version": 3
   },
   "file_extension": ".py",
   "mimetype": "text/x-python",
   "name": "python",
   "nbconvert_exporter": "python",
   "pygments_lexer": "ipython3",
   "version": "3.9.17"
  },
  "orig_nbformat": 4
 },
 "nbformat": 4,
 "nbformat_minor": 2
}
